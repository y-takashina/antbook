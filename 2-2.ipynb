{
 "cells": [
  {
   "cell_type": "markdown",
   "metadata": {},
   "source": [
    "# 2-2-1 硬貨の問題"
   ]
  },
  {
   "cell_type": "code",
   "execution_count": 1,
   "metadata": {
    "collapsed": true
   },
   "outputs": [],
   "source": [
    "C = [3, 2, 1, 3, 0, 2]\n",
    "A = 620"
   ]
  },
  {
   "cell_type": "code",
   "execution_count": 2,
   "metadata": {},
   "outputs": [
    {
     "name": "stdout",
     "output_type": "stream",
     "text": [
      "6\n",
      "CPU times: user 0 ns, sys: 0 ns, total: 0 ns\n",
      "Wall time: 473 µs\n"
     ]
    }
   ],
   "source": [
    "%%time\n",
    "yens = [1, 5, 10, 50, 100, 500]\n",
    "count = 0\n",
    "for i in range(5, 0, -1):\n",
    "    num = min(int(A / yens[i]), C[i])\n",
    "    count += num\n",
    "    A -= num * yens[i]\n",
    "\n",
    "print(count)"
   ]
  },
  {
   "cell_type": "markdown",
   "metadata": {},
   "source": [
    "# 2-2-2 区間スケジューリング問題"
   ]
  },
  {
   "cell_type": "code",
   "execution_count": 3,
   "metadata": {
    "collapsed": true
   },
   "outputs": [],
   "source": [
    "n = 5\n",
    "s = [1, 2, 4, 6, 8]\n",
    "t = [3, 5, 7, 9, 10]"
   ]
  },
  {
   "cell_type": "code",
   "execution_count": 4,
   "metadata": {},
   "outputs": [
    {
     "name": "stdout",
     "output_type": "stream",
     "text": [
      "3\n",
      "CPU times: user 96 ms, sys: 160 ms, total: 256 ms\n",
      "Wall time: 55.6 ms\n"
     ]
    }
   ],
   "source": [
    "%%time\n",
    "def njobs(n, s, t):\n",
    "    import numpy as np\n",
    "    s = np.array(s)\n",
    "    t = np.array(t)\n",
    "    time = -1\n",
    "    count = 0\n",
    "    while True:\n",
    "        available = t[s > time]\n",
    "        if len(available) == 0:\n",
    "            return count\n",
    "        idx = np.argmin(available)\n",
    "        time = available[idx]\n",
    "        count += 1\n",
    "\n",
    "print(njobs(n, s, t))"
   ]
  },
  {
   "cell_type": "markdown",
   "metadata": {},
   "source": [
    "# 2-2-3 Best Cow Line (POJ No.3617)"
   ]
  },
  {
   "cell_type": "code",
   "execution_count": 5,
   "metadata": {
    "collapsed": true
   },
   "outputs": [],
   "source": [
    "n = 6\n",
    "s = \"ACDBCB\""
   ]
  },
  {
   "cell_type": "code",
   "execution_count": 6,
   "metadata": {},
   "outputs": [],
   "source": [
    "import random\n",
    "import string\n",
    "n = 500\n",
    "s = ''.join(random.choices(string.ascii_uppercase, k=n))"
   ]
  },
  {
   "cell_type": "code",
   "execution_count": 7,
   "metadata": {},
   "outputs": [
    {
     "name": "stdout",
     "output_type": "stream",
     "text": [
      "AATORCZVWIVOUKNGNNURMVQWLXMRSKNOTHBUWCMFHFLGURGBJLRGECBBWWYDBXBYOKRHNUHMJNUVRSPQSTVLLBEGNTWFTFVJFDTZXPZIFQPUTBLHUGWNTVDGDPZIAPDZGXYRHYBOCNIWKASKVZKJSFOCTUSLSRAPUVQWTFXVJLXWPVQZDLBVYMSWEREGZIZQPDKVHDNAYZMITKINBJORASKGLHYSSWBNXKJVIARATATRMOIRLMROESVYYJZKNJDHNMBRMCFGWYBZSNGTOYSUYFQKYGPKKQTNWELCCTDAUCNGMLRNAVRKCTKXVILSBOUYDMSUWKCTZFPMTAFEAUDAHATUVPWREZUIVATXYTKDJLBZIKUOWPBGNIXXCXAEUSTZOXIFRNQTOSEBYEZKANWVHBOCVNUHLPXEKUIEESRDQTSXTEQEKUTFYKUELFRRZLXDSTBBWOPJEGLBOKSWIZKNTAFORNIEWWGYNBPXNEPXPQJZIEQZBYHW\n",
      "CPU times: user 0 ns, sys: 4 ms, total: 4 ms\n",
      "Wall time: 1 ms\n"
     ]
    }
   ],
   "source": [
    "%%time\n",
    "s = s.upper()\n",
    "s2 = s + s\n",
    "print(sorted([s2[i:i+n]for i in range(n)])[0])"
   ]
  },
  {
   "cell_type": "code",
   "execution_count": 8,
   "metadata": {},
   "outputs": [
    {
     "name": "stdout",
     "output_type": "stream",
     "text": [
      "AATORCZVWIVOUKNGNNURMVQWLXMRSKNOTHBUWCMFHFLGURGBJLRGECBBWWYDBXBYOKRHNUHMJNUVRSPQSTVLLBEGNTWFTFVJFDTZXPZIFQPUTBLHUGWNTVDGDPZIAPDZGXYRHYBOCNIWKASKVZKJSFOCTUSLSRAPUVQWTFXVJLXWPVQZDLBVYMSWEREGZIZQPDKVHDNAYZMITKINBJORASKGLHYSSWBNXKJVIARATATRMOIRLMROESVYYJZKNJDHNMBRMCFGWYBZSNGTOYSUYFQKYGPKKQTNWELCCTDAUCNGMLRNAVRKCTKXVILSBOUYDMSUWKCTZFPMTAFEAUDAHATUVPWREZUIVATXYTKDJLBZIKUOWPBGNIXXCXAEUSTZOXIFRNQTOSEBYEZKANWVHBOCVNUHLPXEKUIEESRDQTSXTEQEKUTFYKUELFRRZLXDSTBBWOPJEGLBOKSWIZKNTAFORNIEWWGYNBPXNEPXPQJZIEQZBYHW\n",
      "CPU times: user 0 ns, sys: 0 ns, total: 0 ns\n",
      "Wall time: 386 µs\n"
     ]
    }
   ],
   "source": [
    "%%time\n",
    "# 貪欲法を使う場合\n",
    "s = s.upper()\n",
    "s2 = s + s\n",
    "candidates = [s2[i:i+n] for i in range(n)]\n",
    "digit = 0\n",
    "while len(candidates) > 1 and not all([cand == candidates[0] for cand in candidates]) and digit < n:\n",
    "    next_candidates = []\n",
    "    min_char = 'Z'\n",
    "    for cand in candidates:\n",
    "        if cand[digit] < min_char:\n",
    "            min_char = cand[digit]\n",
    "            next_candidates = [cand]\n",
    "        elif cand[digit] == min_char:\n",
    "            next_candidates.append(cand)\n",
    "    candidates = list(next_candidates)\n",
    "    digit += 1\n",
    "\n",
    "print(candidates[0])"
   ]
  },
  {
   "cell_type": "markdown",
   "metadata": {},
   "source": [
    "# 2-2-4 Saruman's Army (POJ No.3069)"
   ]
  },
  {
   "cell_type": "code",
   "execution_count": 9,
   "metadata": {
    "collapsed": true
   },
   "outputs": [],
   "source": [
    "N = 6\n",
    "R = 10\n",
    "X = [1, 7, 15, 20, 30, 50]"
   ]
  },
  {
   "cell_type": "code",
   "execution_count": 10,
   "metadata": {},
   "outputs": [
    {
     "name": "stdout",
     "output_type": "stream",
     "text": [
      "3\n",
      "CPU times: user 0 ns, sys: 0 ns, total: 0 ns\n",
      "Wall time: 119 µs\n"
     ]
    }
   ],
   "source": [
    "%%time\n",
    "def npoints(N, R, X):\n",
    "    count = 0\n",
    "    X = sorted(X)\n",
    "    while len(X) > 0:\n",
    "        selected = [x for x in X if x >= X[-1] - R][0]\n",
    "        X = [x for x in X if x < selected - R] # まだカバーされていない点\n",
    "        count += 1\n",
    "    return count\n",
    "\n",
    "print(npoints(N, R, X))"
   ]
  },
  {
   "cell_type": "markdown",
   "metadata": {},
   "source": [
    "# 2-2-5 Fence Repair (POJ No.3253)"
   ]
  },
  {
   "cell_type": "code",
   "execution_count": 11,
   "metadata": {
    "collapsed": true
   },
   "outputs": [],
   "source": [
    "N = 3\n",
    "L = [8, 5, 8]"
   ]
  },
  {
   "cell_type": "code",
   "execution_count": 12,
   "metadata": {
    "collapsed": true
   },
   "outputs": [],
   "source": [
    "N = 5\n",
    "L = [3, 4, 5, 1, 2]"
   ]
  },
  {
   "cell_type": "code",
   "execution_count": 13,
   "metadata": {},
   "outputs": [
    {
     "name": "stdout",
     "output_type": "stream",
     "text": [
      "33\n",
      "CPU times: user 0 ns, sys: 0 ns, total: 0 ns\n",
      "Wall time: 65.3 µs\n"
     ]
    }
   ],
   "source": [
    "%%time\n",
    "def sep(L):\n",
    "    L = sorted(L)\n",
    "    left = []\n",
    "    right = []\n",
    "    while len(L) > 0:\n",
    "        v = L.pop()\n",
    "        if sum(left) < sum(right):\n",
    "            left.append(v)\n",
    "        else:\n",
    "            right.append(v)\n",
    "    return left, right\n",
    "\n",
    "def cost(L):\n",
    "    if len(L) == 1:\n",
    "        return 0\n",
    "    left, right = sep(L)\n",
    "    return cost(left) + cost(right) + sum(L)\n",
    "\n",
    "print(cost(L))"
   ]
  },
  {
   "cell_type": "code",
   "execution_count": null,
   "metadata": {
    "collapsed": true
   },
   "outputs": [],
   "source": []
  }
 ],
 "metadata": {
  "kernelspec": {
   "display_name": "py36",
   "language": "python",
   "name": "py36"
  },
  "language_info": {
   "codemirror_mode": {
    "name": "ipython",
    "version": 3
   },
   "file_extension": ".py",
   "mimetype": "text/x-python",
   "name": "python",
   "nbconvert_exporter": "python",
   "pygments_lexer": "ipython3",
   "version": "3.6.3"
  }
 },
 "nbformat": 4,
 "nbformat_minor": 2
}
