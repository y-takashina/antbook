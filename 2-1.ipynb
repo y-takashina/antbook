{
 "cells": [
  {
   "cell_type": "markdown",
   "metadata": {},
   "source": [
    "# 2-1-1 部分和問題"
   ]
  },
  {
   "cell_type": "code",
   "execution_count": 1,
   "metadata": {
    "collapsed": true
   },
   "outputs": [],
   "source": [
    "n = 4\n",
    "a = [1, 2, 4, 7]\n",
    "k = 13"
   ]
  },
  {
   "cell_type": "code",
   "execution_count": 2,
   "metadata": {
    "collapsed": true
   },
   "outputs": [],
   "source": [
    "k = 15"
   ]
  },
  {
   "cell_type": "code",
   "execution_count": 3,
   "metadata": {
    "collapsed": true
   },
   "outputs": [],
   "source": [
    "def subsum_k(s, left):\n",
    "    if s > k:\n",
    "        return False\n",
    "    if s == k:\n",
    "        return True\n",
    "    for i, _ in enumerate(left):\n",
    "        v = left.pop(i)\n",
    "        if subsum_k(s + v, left):\n",
    "            return True\n",
    "        left.append(v)\n",
    "    return False"
   ]
  },
  {
   "cell_type": "code",
   "execution_count": 4,
   "metadata": {},
   "outputs": [
    {
     "name": "stdout",
     "output_type": "stream",
     "text": [
      "No\n",
      "CPU times: user 4 ms, sys: 0 ns, total: 4 ms\n",
      "Wall time: 463 µs\n"
     ]
    }
   ],
   "source": [
    "%%time\n",
    "if subsum_k(0, a):\n",
    "    print('Yes')\n",
    "else:\n",
    "    print('No')"
   ]
  },
  {
   "cell_type": "markdown",
   "metadata": {},
   "source": [
    "# 2-1-2 Lake Counting (POJ No.2386)"
   ]
  },
  {
   "cell_type": "code",
   "execution_count": 5,
   "metadata": {
    "collapsed": true
   },
   "outputs": [],
   "source": [
    "N = 10\n",
    "M = 12\n",
    "field = \"\"\"\n",
    "W........WW.\n",
    ".WWW.....WWW\n",
    "....WW...WW.\n",
    ".........WW.\n",
    ".........W..\n",
    "..W......W..\n",
    ".W.W.....WW.\n",
    "W.W.W.....W.\n",
    ".W.W......W.\n",
    "..W.......W.\"\"\".split('\\n')[1:]"
   ]
  },
  {
   "cell_type": "code",
   "execution_count": 6,
   "metadata": {},
   "outputs": [
    {
     "name": "stdout",
     "output_type": "stream",
     "text": [
      "3\n",
      "CPU times: user 0 ns, sys: 0 ns, total: 0 ns\n",
      "Wall time: 407 µs\n"
     ]
    }
   ],
   "source": [
    "%%time\n",
    "count = 0\n",
    "for x in range(M):\n",
    "    for y in range(N):\n",
    "        if field[y][x] == '.':\n",
    "            continue\n",
    "        is_new = True\n",
    "        for dx, dy in [(-1, -1), (-1, 0), (0, -1), (1, -1)]:\n",
    "            x2, y2 = x + dx, y + dy\n",
    "            if x2 < 0 or x2 >= M or y2 < 0 or y2 >= N:\n",
    "                continue\n",
    "            if field[y2][x2] == 'W':\n",
    "                is_new = False\n",
    "                break\n",
    "        if is_new:\n",
    "            count += 1\n",
    "\n",
    "print(count)"
   ]
  },
  {
   "cell_type": "code",
   "execution_count": 7,
   "metadata": {
    "collapsed": true
   },
   "outputs": [],
   "source": [
    "# 別解書こうとしたけど格子から隣接行列作るのがめんどくさすぎてやめた\n",
    "# ラプラシアンの固有値 0 の個数がそのグラフにおける繋がった要素の個数\n",
    "def ncc(A):\n",
    "    import numpy as np\n",
    "    D = np.diag(np.sum(A, axis=0))\n",
    "    L = D - A\n",
    "    return len(A) - np.count_nonzero(np.linalg.eigvals(L))"
   ]
  },
  {
   "cell_type": "markdown",
   "metadata": {},
   "source": [
    "# 2-1-3 迷路の最短路"
   ]
  },
  {
   "cell_type": "code",
   "execution_count": 8,
   "metadata": {
    "collapsed": true
   },
   "outputs": [],
   "source": [
    "N = 10\n",
    "M = 10\n",
    "maze = \"\"\"\n",
    "#S######.#\n",
    "......#..#\n",
    ".#.##.##.#\n",
    ".#........\n",
    "##.##.####\n",
    "....#....#\n",
    ".#######.#\n",
    "....#.....\n",
    ".####.###.\n",
    "....#...G#\"\"\".split('\\n')[1:]"
   ]
  },
  {
   "cell_type": "code",
   "execution_count": 9,
   "metadata": {
    "scrolled": true
   },
   "outputs": [
    {
     "name": "stdout",
     "output_type": "stream",
     "text": [
      "22\n",
      "CPU times: user 0 ns, sys: 0 ns, total: 0 ns\n",
      "Wall time: 407 µs\n"
     ]
    }
   ],
   "source": [
    "%%time\n",
    "start = [(y, x) for y, line in enumerate(maze) for x, c in enumerate(line) if c == 'S'][0]\n",
    "goal = [(y, x) for y, line in enumerate(maze) for x, c in enumerate(line) if c == 'G'][0]\n",
    "\n",
    "queue = [start]\n",
    "distances = {start: 0}\n",
    "visited = set()\n",
    "visited.add(start)\n",
    "while len(queue) > 0:\n",
    "    y, x = queue.pop(0)\n",
    "    for dy, dx in [(-1, 0), (0, -1), (1, 0), (0, 1)]:\n",
    "        x2, y2 = x + dx, y + dy\n",
    "        if x2 < 0 or x2 >= M or y2 < 0 or y2 >= N:\n",
    "            continue\n",
    "        if maze[y2][x2] == '#':\n",
    "            continue\n",
    "        if (y2, x2) in visited:\n",
    "            continue\n",
    "        queue.append((y2, x2))\n",
    "        visited.add((y2, x2))\n",
    "        distances[y2, x2] = distances[y, x] + 1\n",
    "        if maze[y2][x2] == 'G':\n",
    "            queue = []\n",
    "            break\n",
    "\n",
    "print(distances.get(goal, -1))"
   ]
  },
  {
   "cell_type": "code",
   "execution_count": null,
   "metadata": {
    "collapsed": true
   },
   "outputs": [],
   "source": []
  }
 ],
 "metadata": {
  "kernelspec": {
   "display_name": "py36",
   "language": "python",
   "name": "py36"
  },
  "language_info": {
   "codemirror_mode": {
    "name": "ipython",
    "version": 3
   },
   "file_extension": ".py",
   "mimetype": "text/x-python",
   "name": "python",
   "nbconvert_exporter": "python",
   "pygments_lexer": "ipython3",
   "version": "3.6.3"
  }
 },
 "nbformat": 4,
 "nbformat_minor": 2
}
