{
 "cells": [
  {
   "cell_type": "markdown",
   "metadata": {},
   "source": [
    "# 2-3-1&2-3-4 01ナップサック問題"
   ]
  },
  {
   "cell_type": "code",
   "execution_count": 1,
   "metadata": {
    "collapsed": true
   },
   "outputs": [],
   "source": [
    "n = 4\n",
    "wv = [(2, 3), (1, 2), (3, 4), (2, 2)]\n",
    "W = 5"
   ]
  },
  {
   "cell_type": "code",
   "execution_count": 2,
   "metadata": {
    "collapsed": true
   },
   "outputs": [],
   "source": [
    "import random\n",
    "n = 50\n",
    "w = random.choices(range(1, 10), k=n)\n",
    "v = random.choices(range(1, 10), k=n)\n",
    "wv = list(zip(w, v))\n",
    "W = 10"
   ]
  },
  {
   "cell_type": "code",
   "execution_count": 3,
   "metadata": {},
   "outputs": [
    {
     "name": "stdout",
     "output_type": "stream",
     "text": [
      "45\n",
      "CPU times: user 36 ms, sys: 0 ns, total: 36 ms\n",
      "Wall time: 35.8 ms\n"
     ]
    }
   ],
   "source": [
    "%%time\n",
    "# 全探索\n",
    "memo = {}\n",
    "def totv(i, w):\n",
    "    if i == n:\n",
    "        res = 0\n",
    "    elif w < wv[i][0]:\n",
    "        res = totv(i + 1, w)\n",
    "    else:\n",
    "        select = totv(i + 1, w - wv[i][0]) + wv[i][1]\n",
    "        not_select = totv(i + 1, w)\n",
    "        res = max(select, not_select)\n",
    "    return res\n",
    "\n",
    "print(totv(0, W))"
   ]
  },
  {
   "cell_type": "code",
   "execution_count": 4,
   "metadata": {},
   "outputs": [
    {
     "name": "stdout",
     "output_type": "stream",
     "text": [
      "45\n",
      "CPU times: user 0 ns, sys: 0 ns, total: 0 ns\n",
      "Wall time: 706 µs\n"
     ]
    }
   ],
   "source": [
    "%%time\n",
    "# メモ化\n",
    "memo = {}\n",
    "def totv(i, w):\n",
    "    if (i, w) in memo:\n",
    "        return memo[i, w]\n",
    "    if i == n:\n",
    "        res = 0\n",
    "    elif w < wv[i][0]:\n",
    "        res = totv(i + 1, w)\n",
    "    else:\n",
    "        select = totv(i + 1, w - wv[i][0]) + wv[i][1]\n",
    "        not_select = totv(i + 1, w)\n",
    "        res = max(select, not_select)\n",
    "    memo[i, w] = res\n",
    "    return res\n",
    "\n",
    "print(totv(0, W))"
   ]
  },
  {
   "cell_type": "code",
   "execution_count": 5,
   "metadata": {},
   "outputs": [
    {
     "name": "stdout",
     "output_type": "stream",
     "text": [
      "45\n",
      "CPU times: user 0 ns, sys: 0 ns, total: 0 ns\n",
      "Wall time: 523 µs\n"
     ]
    }
   ],
   "source": [
    "%%time\n",
    "# 動的計画法\n",
    "memo = [list(x) for x in [[0] * (W + 1)] * n] \n",
    "for leftw in range(W + 1):\n",
    "    if leftw >= wv[n - 1][0]:\n",
    "        memo[n - 1][leftw] = wv[n - 1][1]\n",
    "\n",
    "for i in range(n - 2, -1, -1):\n",
    "    for leftw in range(W + 1):\n",
    "        if leftw < wv[i][0]:\n",
    "            memo[i][leftw] = memo[i + 1][leftw]\n",
    "        else:\n",
    "            select = memo[i + 1][leftw - wv[i][0]] + wv[i][1]\n",
    "            not_select = memo[i + 1][leftw]\n",
    "            memo[i][leftw] = max(select, not_select)\n",
    "\n",
    "print(memo[0][W])"
   ]
  },
  {
   "cell_type": "code",
   "execution_count": 6,
   "metadata": {},
   "outputs": [
    {
     "name": "stdout",
     "output_type": "stream",
     "text": [
      "45\n",
      "CPU times: user 4 ms, sys: 0 ns, total: 4 ms\n",
      "Wall time: 4.1 ms\n"
     ]
    }
   ],
   "source": [
    "%%time\n",
    "V = 100\n",
    "inf = 1000000000000000\n",
    "memo = [list(x) for x in [[inf] * (V + 1)] * (n + 1)]\n",
    "memo[0][0] = 0\n",
    "for i in range(n):\n",
    "    for leftv in range(V + 1):\n",
    "        memo[i + 1][leftv] = min(memo[i][leftv], memo[i][leftv - wv[i][1]] + wv[i][0])\n",
    "\n",
    "print(max([i for goods in memo for i, w in enumerate(goods) if w <= W]))"
   ]
  },
  {
   "cell_type": "markdown",
   "metadata": {},
   "source": [
    "# 2-3-2 最長共通部分列問題"
   ]
  },
  {
   "cell_type": "code",
   "execution_count": 7,
   "metadata": {
    "collapsed": true
   },
   "outputs": [],
   "source": [
    "n = 4\n",
    "m = 4\n",
    "s = \"abcd\"\n",
    "t = \"becd\""
   ]
  },
  {
   "cell_type": "code",
   "execution_count": 8,
   "metadata": {},
   "outputs": [
    {
     "data": {
      "text/plain": [
       "('ZGTFOSZBYQ', 'VRMNUERAPO')"
      ]
     },
     "execution_count": 8,
     "metadata": {},
     "output_type": "execute_result"
    }
   ],
   "source": [
    "import random\n",
    "import string\n",
    "n = 10\n",
    "m = 10\n",
    "s = ''.join(random.choices(string.ascii_uppercase, k=n))\n",
    "t = ''.join(random.choices(string.ascii_uppercase, k=m))\n",
    "s, t"
   ]
  },
  {
   "cell_type": "code",
   "execution_count": 9,
   "metadata": {},
   "outputs": [
    {
     "name": "stdout",
     "output_type": "stream",
     "text": [
      "1\n",
      "CPU times: user 0 ns, sys: 0 ns, total: 0 ns\n",
      "Wall time: 247 µs\n"
     ]
    }
   ],
   "source": [
    "%%time\n",
    "# 動的計画法\n",
    "memo = {}\n",
    "for i in range(n):\n",
    "    for j in range(m):\n",
    "        if s[i] == t[j]:\n",
    "            memo[i + 1, j + 1] = memo.get((i, j), 0) + 1\n",
    "        else:\n",
    "            left = memo.get((i, j + 1), 0)\n",
    "            right = memo.get((i + 1, j), 0)\n",
    "            memo[i + 1, j + 1] = max(left, right)\n",
    "\n",
    "print(memo[n, m])"
   ]
  },
  {
   "cell_type": "markdown",
   "metadata": {},
   "source": [
    "# 2-3-3 個数制限なしナップサック問題"
   ]
  },
  {
   "cell_type": "code",
   "execution_count": 10,
   "metadata": {
    "collapsed": true
   },
   "outputs": [],
   "source": [
    "n = 3\n",
    "wv = [(3, 4), (4, 5), (2, 3)]\n",
    "W = 7"
   ]
  },
  {
   "cell_type": "code",
   "execution_count": 11,
   "metadata": {
    "collapsed": true
   },
   "outputs": [],
   "source": [
    "import random\n",
    "n = 50\n",
    "w = random.choices(range(1, 10), k=n)\n",
    "v = random.choices(range(1, 10), k=n)\n",
    "wv = list(zip(w, v))\n",
    "W = 10"
   ]
  },
  {
   "cell_type": "code",
   "execution_count": 12,
   "metadata": {},
   "outputs": [
    {
     "name": "stdout",
     "output_type": "stream",
     "text": [
      "60\n",
      "CPU times: user 76 ms, sys: 4 ms, total: 80 ms\n",
      "Wall time: 80 ms\n"
     ]
    }
   ],
   "source": [
    "%%time\n",
    "# 全探索\n",
    "def totw(i, leftw):\n",
    "    if i == n:\n",
    "        return 0\n",
    "    maxn = int(leftw / wv[i][0])\n",
    "    return max([totw(i + 1, leftw - j * wv[i][0]) + j * wv[i][1] for j in range(maxn + 1)])\n",
    "\n",
    "print(totw(0, W))"
   ]
  },
  {
   "cell_type": "code",
   "execution_count": 13,
   "metadata": {},
   "outputs": [
    {
     "name": "stdout",
     "output_type": "stream",
     "text": [
      "60\n",
      "CPU times: user 0 ns, sys: 0 ns, total: 0 ns\n",
      "Wall time: 1.01 ms\n"
     ]
    }
   ],
   "source": [
    "%%time\n",
    "# 動的計画法\n",
    "memo = [list(x) for x in [[0] * (W + 1)] * (n + 1)]\n",
    "for i in range(n):\n",
    "    for leftw in range(W + 1):\n",
    "        maxn = int(leftw / wv[i][0])\n",
    "        if maxn == 0:\n",
    "            memo[i + 1][leftw] = memo[i][leftw]\n",
    "        else:\n",
    "            for j in range(maxn + 1):\n",
    "                v = memo[i][leftw - j * wv[i][0]] + j * wv[i][1]\n",
    "                memo[i + 1][leftw] = max(memo[i + 1][leftw], v)\n",
    "\n",
    "print(memo[n - 1][W])"
   ]
  },
  {
   "cell_type": "code",
   "execution_count": 14,
   "metadata": {},
   "outputs": [
    {
     "name": "stdout",
     "output_type": "stream",
     "text": [
      "60\n",
      "CPU times: user 0 ns, sys: 0 ns, total: 0 ns\n",
      "Wall time: 662 µs\n"
     ]
    }
   ],
   "source": [
    "%%time\n",
    "# 動的計画法 2\n",
    "memo = [list(x) for x in [[0] * (W + 1)] * (n + 1)]\n",
    "for i in range(n):\n",
    "    for leftw in range(W + 1):\n",
    "        maxn = int(leftw / wv[i][0])\n",
    "        if maxn == 0:\n",
    "            memo[i + 1][leftw] = memo[i][leftw]\n",
    "        else:\n",
    "            memo[i + 1][leftw] = max(memo[i][leftw], memo[i + 1][leftw - wv[i][0]] + wv[i][1])\n",
    "\n",
    "print(memo[n - 1][W])"
   ]
  },
  {
   "cell_type": "markdown",
   "metadata": {},
   "source": [
    "# 2-3-5 個数制限付き部分和問題"
   ]
  },
  {
   "cell_type": "code",
   "execution_count": 15,
   "metadata": {},
   "outputs": [],
   "source": [
    "n = 3\n",
    "a = [3, 5, 8]\n",
    "m = [3, 2, 2]\n",
    "k = 17"
   ]
  },
  {
   "cell_type": "code",
   "execution_count": 16,
   "metadata": {},
   "outputs": [
    {
     "name": "stdout",
     "output_type": "stream",
     "text": [
      "True\n",
      "CPU times: user 0 ns, sys: 0 ns, total: 0 ns\n",
      "Wall time: 768 µs\n"
     ]
    }
   ],
   "source": [
    "%%time\n",
    "# 全探索（本当は DP で解く問題）\n",
    "def subsumk(s, left):\n",
    "    if s == k:\n",
    "        return True\n",
    "    b = False\n",
    "    for i in range(n):\n",
    "        if left[i] == 0:\n",
    "            continue\n",
    "        l = list(left)\n",
    "        l[i] -= 1\n",
    "        b |= subsumk(s + a[i], l)\n",
    "    return b\n",
    "\n",
    "print(subsumk(0, m))"
   ]
  },
  {
   "cell_type": "markdown",
   "metadata": {},
   "source": [
    "# 2-3-6 最長増加部分文字列"
   ]
  },
  {
   "cell_type": "code",
   "execution_count": 17,
   "metadata": {
    "collapsed": true
   },
   "outputs": [],
   "source": [
    "n = 5\n",
    "a = [4, 2, 3, 1, 5]"
   ]
  },
  {
   "cell_type": "code",
   "execution_count": 18,
   "metadata": {},
   "outputs": [
    {
     "name": "stdout",
     "output_type": "stream",
     "text": [
      "3\n",
      "CPU times: user 0 ns, sys: 0 ns, total: 0 ns\n",
      "Wall time: 198 µs\n"
     ]
    }
   ],
   "source": [
    "%%time\n",
    "dp = [1] * n\n",
    "\n",
    "for i in range(n):\n",
    "    for j in range(i):\n",
    "        if a[j] < a[i]:\n",
    "            dp[i] = max(dp[i], dp[j] + 1)\n",
    "\n",
    "print(dp[n - 1])"
   ]
  },
  {
   "cell_type": "markdown",
   "metadata": {},
   "source": [
    "# 2-3-7 分割数"
   ]
  },
  {
   "cell_type": "code",
   "execution_count": 19,
   "metadata": {},
   "outputs": [],
   "source": [
    "n = 4\n",
    "m = 3\n",
    "M = 10000"
   ]
  },
  {
   "cell_type": "code",
   "execution_count": 20,
   "metadata": {},
   "outputs": [
    {
     "name": "stdout",
     "output_type": "stream",
     "text": [
      "9\n"
     ]
    }
   ],
   "source": [
    "# うまくいってない。分からん……\n",
    "dp = [list(x) for x in [[0] * (n + 1)] * (m + 1)]\n",
    "dp[0][0] = 1\n",
    "for i in range(1, m + 1):\n",
    "    for j in range(n + 1):\n",
    "        if j >= i:\n",
    "            dp[i][j] = (dp[i - 1][j] + dp[i][j - 1]) % M\n",
    "        else:\n",
    "            dp[i][j] = dp[i - 1][j]\n",
    "\n",
    "print(dp[m][n])"
   ]
  },
  {
   "cell_type": "markdown",
   "metadata": {},
   "source": [
    "# 2-3-8 重複組み合わせ"
   ]
  },
  {
   "cell_type": "code",
   "execution_count": 21,
   "metadata": {},
   "outputs": [],
   "source": [
    "n = 3\n",
    "m = 3\n",
    "a = [1, 2, 3]\n",
    "M = 10000"
   ]
  },
  {
   "cell_type": "code",
   "execution_count": 22,
   "metadata": {},
   "outputs": [
    {
     "data": {
      "text/plain": [
       "6"
      ]
     },
     "execution_count": 22,
     "metadata": {},
     "output_type": "execute_result"
    }
   ],
   "source": [
    "# dp[i, j] = i 番目までの品物で j 個まで選んだときの場合の数\n",
    "dp = [list(x) for x in [[0] * (m + 1)] * (n + 1)]\n",
    "dp[0][0] = 1\n",
    "for i in range(1, n + 1):\n",
    "    for j in range(m + 1):\n",
    "        dp[i][j] = dp[i - 1][j] + dp[i][j - 1]\n",
    "        if j > a[i - 1]:\n",
    "            dp[i][j] -= dp[i - 1][j - a[i - 1] - 1]\n",
    "        dp[i][j] = (dp[i][j] + M) % M\n",
    "\n",
    "dp[n][m]"
   ]
  },
  {
   "cell_type": "code",
   "execution_count": null,
   "metadata": {
    "collapsed": true
   },
   "outputs": [],
   "source": []
  }
 ],
 "metadata": {
  "kernelspec": {
   "display_name": "py36",
   "language": "python",
   "name": "py36"
  },
  "language_info": {
   "codemirror_mode": {
    "name": "ipython",
    "version": 3
   },
   "file_extension": ".py",
   "mimetype": "text/x-python",
   "name": "python",
   "nbconvert_exporter": "python",
   "pygments_lexer": "ipython3",
   "version": "3.6.3"
  }
 },
 "nbformat": 4,
 "nbformat_minor": 2
}
